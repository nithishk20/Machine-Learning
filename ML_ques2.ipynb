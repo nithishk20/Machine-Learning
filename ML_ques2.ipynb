{
  "nbformat": 4,
  "nbformat_minor": 0,
  "metadata": {
    "colab": {
      "provenance": [],
      "authorship_tag": "ABX9TyN2TJpPuHljntAXIA1tuVkR",
      "include_colab_link": true
    },
    "kernelspec": {
      "name": "python3",
      "display_name": "Python 3"
    },
    "language_info": {
      "name": "python"
    }
  },
  "cells": [
    {
      "cell_type": "markdown",
      "metadata": {
        "id": "view-in-github",
        "colab_type": "text"
      },
      "source": [
        "<a href=\"https://colab.research.google.com/github/nithishk20/Machine-Learning/blob/main/ML_ques2.ipynb\" target=\"_parent\"><img src=\"https://colab.research.google.com/assets/colab-badge.svg\" alt=\"Open In Colab\"/></a>"
      ]
    },
    {
      "cell_type": "code",
      "execution_count": 1,
      "metadata": {
        "colab": {
          "base_uri": "https://localhost:8080/",
          "height": 991
        },
        "id": "uWuXBl1UBQbk",
        "outputId": "d5168845-d727-4c79-b819-b0d8a60fa963"
      },
      "outputs": [
        {
          "output_type": "execute_result",
          "data": {
            "text/plain": [
              "    Age  Gender  Ethnicity  BMI  Blood Pressure (systolic)  \\\n",
              "0    45    Male  Caucasian   23                        120   \n",
              "1    30  Female   Hispanic   27                        135   \n",
              "2    65    Male    African   32                        150   \n",
              "3    50  Female  Caucasian   29                        140   \n",
              "4    28    Male      Asian   25                        115   \n",
              "5    60  Female    African   35                        170   \n",
              "6    40    Male   Hispanic   26                        130   \n",
              "7    35  Female      Asian   24                        118   \n",
              "8    55    Male  Caucasian   31                        142   \n",
              "9    75  Female   Hispanic   26                        130   \n",
              "10   48    Male    African   33                        160   \n",
              "11   27  Female  Caucasian   22                        110   \n",
              "12   58    Male      Asian   30                        135   \n",
              "13   32    Male      Asian   22                        120   \n",
              "14   45  Female      Black   28                        136   \n",
              "15   58    Male      White   34                        150   \n",
              "16   72  Female   Hispanic   26                        128   \n",
              "17   41    Male      Black   30                        142   \n",
              "18   45    Male      Asian   24                        120   \n",
              "19   65  Female  Caucasian   28                        140   \n",
              "20   30    Male    African   32                        130   \n",
              "21   58  Female   Hispanic   26                        125   \n",
              "\n",
              "    Blood Pressure (diastolic)  Heart Rate  Respiratory Rate  \\\n",
              "0                           80          75                16   \n",
              "1                           90          80                18   \n",
              "2                          100          90                20   \n",
              "3                           95          70                14   \n",
              "4                           75          80                16   \n",
              "5                          110          85                18   \n",
              "6                           85          75                16   \n",
              "7                           78          70                14   \n",
              "8                           95          80                16   \n",
              "9                           85          80                20   \n",
              "10                         100          90                20   \n",
              "11                          72          75                14   \n",
              "12                          90          75                16   \n",
              "13                          80          75                16   \n",
              "14                          92          80                18   \n",
              "15                         100          70                20   \n",
              "16                          84          85                14   \n",
              "17                          94          77                16   \n",
              "18                          80          70                16   \n",
              "19                          90          80                20   \n",
              "20                          85          85                18   \n",
              "21                          80          75                16   \n",
              "\n",
              "    Oxygen Saturation Level Chronic Conditions     Medications  \\\n",
              "0                        98               None            None   \n",
              "1                        95       Hypertension            None   \n",
              "2                        92           Diabetes         Insulin   \n",
              "3                        96               None  Blood thinners   \n",
              "4                        97               None            None   \n",
              "5                        90       Hypertension            None   \n",
              "6                        98               None            None   \n",
              "7                        96               None            None   \n",
              "8                        94      Heart Disease            None   \n",
              "9                        92               None            None   \n",
              "10                       92           Diabetes         Insulin   \n",
              "11                       96               None            None   \n",
              "12                       94               None            None   \n",
              "13                       98               None            None   \n",
              "14                       95       Hypertension            None   \n",
              "15                       90           Diabetes         Insulin   \n",
              "16                       97      Heart Disease  Blood thinners   \n",
              "17                       96       Hypertension            None   \n",
              "18                       98               None            None   \n",
              "19                       95       Hypertension  Blood thinners   \n",
              "20                       96           Diabetes         Insulin   \n",
              "21                       97      Heart disease  Blood thinners   \n",
              "\n",
              "      Lab Test Results      Chief Complaint  Severity  \n",
              "0               Normal           Chest Pain    Severe  \n",
              "1         High Glucose             Headache  Moderate  \n",
              "2      Abnormal Sodium  Shortness of Breath    Severe  \n",
              "3               Normal           Chest Pain  Moderate  \n",
              "4               Normal                Fever      Mild  \n",
              "5   Abnormal Potassium  Shortness of Breath    Severe  \n",
              "6               Normal           Chest Pain    Severe  \n",
              "7               Normal             Headache      Mild  \n",
              "8               Normal           Chest Pain  Moderate  \n",
              "9         High Glucose  Shortness of Breath    Severe  \n",
              "10     Abnormal Sodium           Chest Pain    Severe  \n",
              "11              Normal                Fever      Mild  \n",
              "12  Abnormal Potassium             Headache  Moderate  \n",
              "13              Normal             Headache      Mild  \n",
              "14            Abnormal           Chest Pain    Severe  \n",
              "15            Abnormal     Shortness Breath  Moderate  \n",
              "16              Normal            Dizziness      Mild  \n",
              "17              Normal              Fatigue  Moderate  \n",
              "18              Normal                Fever      Mild  \n",
              "19        High glucose           Chest pain  Moderate  \n",
              "20              Normal  Shortness of breath    Severe  \n",
              "21            Abnormal            Dizziness      Mild  "
            ],
            "text/html": [
              "\n",
              "  <div id=\"df-e63986c3-ae37-4812-86b5-bdc495cadef5\">\n",
              "    <div class=\"colab-df-container\">\n",
              "      <div>\n",
              "<style scoped>\n",
              "    .dataframe tbody tr th:only-of-type {\n",
              "        vertical-align: middle;\n",
              "    }\n",
              "\n",
              "    .dataframe tbody tr th {\n",
              "        vertical-align: top;\n",
              "    }\n",
              "\n",
              "    .dataframe thead th {\n",
              "        text-align: right;\n",
              "    }\n",
              "</style>\n",
              "<table border=\"1\" class=\"dataframe\">\n",
              "  <thead>\n",
              "    <tr style=\"text-align: right;\">\n",
              "      <th></th>\n",
              "      <th>Age</th>\n",
              "      <th>Gender</th>\n",
              "      <th>Ethnicity</th>\n",
              "      <th>BMI</th>\n",
              "      <th>Blood Pressure (systolic)</th>\n",
              "      <th>Blood Pressure (diastolic)</th>\n",
              "      <th>Heart Rate</th>\n",
              "      <th>Respiratory Rate</th>\n",
              "      <th>Oxygen Saturation Level</th>\n",
              "      <th>Chronic Conditions</th>\n",
              "      <th>Medications</th>\n",
              "      <th>Lab Test Results</th>\n",
              "      <th>Chief Complaint</th>\n",
              "      <th>Severity</th>\n",
              "    </tr>\n",
              "  </thead>\n",
              "  <tbody>\n",
              "    <tr>\n",
              "      <th>0</th>\n",
              "      <td>45</td>\n",
              "      <td>Male</td>\n",
              "      <td>Caucasian</td>\n",
              "      <td>23</td>\n",
              "      <td>120</td>\n",
              "      <td>80</td>\n",
              "      <td>75</td>\n",
              "      <td>16</td>\n",
              "      <td>98</td>\n",
              "      <td>None</td>\n",
              "      <td>None</td>\n",
              "      <td>Normal</td>\n",
              "      <td>Chest Pain</td>\n",
              "      <td>Severe</td>\n",
              "    </tr>\n",
              "    <tr>\n",
              "      <th>1</th>\n",
              "      <td>30</td>\n",
              "      <td>Female</td>\n",
              "      <td>Hispanic</td>\n",
              "      <td>27</td>\n",
              "      <td>135</td>\n",
              "      <td>90</td>\n",
              "      <td>80</td>\n",
              "      <td>18</td>\n",
              "      <td>95</td>\n",
              "      <td>Hypertension</td>\n",
              "      <td>None</td>\n",
              "      <td>High Glucose</td>\n",
              "      <td>Headache</td>\n",
              "      <td>Moderate</td>\n",
              "    </tr>\n",
              "    <tr>\n",
              "      <th>2</th>\n",
              "      <td>65</td>\n",
              "      <td>Male</td>\n",
              "      <td>African</td>\n",
              "      <td>32</td>\n",
              "      <td>150</td>\n",
              "      <td>100</td>\n",
              "      <td>90</td>\n",
              "      <td>20</td>\n",
              "      <td>92</td>\n",
              "      <td>Diabetes</td>\n",
              "      <td>Insulin</td>\n",
              "      <td>Abnormal Sodium</td>\n",
              "      <td>Shortness of Breath</td>\n",
              "      <td>Severe</td>\n",
              "    </tr>\n",
              "    <tr>\n",
              "      <th>3</th>\n",
              "      <td>50</td>\n",
              "      <td>Female</td>\n",
              "      <td>Caucasian</td>\n",
              "      <td>29</td>\n",
              "      <td>140</td>\n",
              "      <td>95</td>\n",
              "      <td>70</td>\n",
              "      <td>14</td>\n",
              "      <td>96</td>\n",
              "      <td>None</td>\n",
              "      <td>Blood thinners</td>\n",
              "      <td>Normal</td>\n",
              "      <td>Chest Pain</td>\n",
              "      <td>Moderate</td>\n",
              "    </tr>\n",
              "    <tr>\n",
              "      <th>4</th>\n",
              "      <td>28</td>\n",
              "      <td>Male</td>\n",
              "      <td>Asian</td>\n",
              "      <td>25</td>\n",
              "      <td>115</td>\n",
              "      <td>75</td>\n",
              "      <td>80</td>\n",
              "      <td>16</td>\n",
              "      <td>97</td>\n",
              "      <td>None</td>\n",
              "      <td>None</td>\n",
              "      <td>Normal</td>\n",
              "      <td>Fever</td>\n",
              "      <td>Mild</td>\n",
              "    </tr>\n",
              "    <tr>\n",
              "      <th>5</th>\n",
              "      <td>60</td>\n",
              "      <td>Female</td>\n",
              "      <td>African</td>\n",
              "      <td>35</td>\n",
              "      <td>170</td>\n",
              "      <td>110</td>\n",
              "      <td>85</td>\n",
              "      <td>18</td>\n",
              "      <td>90</td>\n",
              "      <td>Hypertension</td>\n",
              "      <td>None</td>\n",
              "      <td>Abnormal Potassium</td>\n",
              "      <td>Shortness of Breath</td>\n",
              "      <td>Severe</td>\n",
              "    </tr>\n",
              "    <tr>\n",
              "      <th>6</th>\n",
              "      <td>40</td>\n",
              "      <td>Male</td>\n",
              "      <td>Hispanic</td>\n",
              "      <td>26</td>\n",
              "      <td>130</td>\n",
              "      <td>85</td>\n",
              "      <td>75</td>\n",
              "      <td>16</td>\n",
              "      <td>98</td>\n",
              "      <td>None</td>\n",
              "      <td>None</td>\n",
              "      <td>Normal</td>\n",
              "      <td>Chest Pain</td>\n",
              "      <td>Severe</td>\n",
              "    </tr>\n",
              "    <tr>\n",
              "      <th>7</th>\n",
              "      <td>35</td>\n",
              "      <td>Female</td>\n",
              "      <td>Asian</td>\n",
              "      <td>24</td>\n",
              "      <td>118</td>\n",
              "      <td>78</td>\n",
              "      <td>70</td>\n",
              "      <td>14</td>\n",
              "      <td>96</td>\n",
              "      <td>None</td>\n",
              "      <td>None</td>\n",
              "      <td>Normal</td>\n",
              "      <td>Headache</td>\n",
              "      <td>Mild</td>\n",
              "    </tr>\n",
              "    <tr>\n",
              "      <th>8</th>\n",
              "      <td>55</td>\n",
              "      <td>Male</td>\n",
              "      <td>Caucasian</td>\n",
              "      <td>31</td>\n",
              "      <td>142</td>\n",
              "      <td>95</td>\n",
              "      <td>80</td>\n",
              "      <td>16</td>\n",
              "      <td>94</td>\n",
              "      <td>Heart Disease</td>\n",
              "      <td>None</td>\n",
              "      <td>Normal</td>\n",
              "      <td>Chest Pain</td>\n",
              "      <td>Moderate</td>\n",
              "    </tr>\n",
              "    <tr>\n",
              "      <th>9</th>\n",
              "      <td>75</td>\n",
              "      <td>Female</td>\n",
              "      <td>Hispanic</td>\n",
              "      <td>26</td>\n",
              "      <td>130</td>\n",
              "      <td>85</td>\n",
              "      <td>80</td>\n",
              "      <td>20</td>\n",
              "      <td>92</td>\n",
              "      <td>None</td>\n",
              "      <td>None</td>\n",
              "      <td>High Glucose</td>\n",
              "      <td>Shortness of Breath</td>\n",
              "      <td>Severe</td>\n",
              "    </tr>\n",
              "    <tr>\n",
              "      <th>10</th>\n",
              "      <td>48</td>\n",
              "      <td>Male</td>\n",
              "      <td>African</td>\n",
              "      <td>33</td>\n",
              "      <td>160</td>\n",
              "      <td>100</td>\n",
              "      <td>90</td>\n",
              "      <td>20</td>\n",
              "      <td>92</td>\n",
              "      <td>Diabetes</td>\n",
              "      <td>Insulin</td>\n",
              "      <td>Abnormal Sodium</td>\n",
              "      <td>Chest Pain</td>\n",
              "      <td>Severe</td>\n",
              "    </tr>\n",
              "    <tr>\n",
              "      <th>11</th>\n",
              "      <td>27</td>\n",
              "      <td>Female</td>\n",
              "      <td>Caucasian</td>\n",
              "      <td>22</td>\n",
              "      <td>110</td>\n",
              "      <td>72</td>\n",
              "      <td>75</td>\n",
              "      <td>14</td>\n",
              "      <td>96</td>\n",
              "      <td>None</td>\n",
              "      <td>None</td>\n",
              "      <td>Normal</td>\n",
              "      <td>Fever</td>\n",
              "      <td>Mild</td>\n",
              "    </tr>\n",
              "    <tr>\n",
              "      <th>12</th>\n",
              "      <td>58</td>\n",
              "      <td>Male</td>\n",
              "      <td>Asian</td>\n",
              "      <td>30</td>\n",
              "      <td>135</td>\n",
              "      <td>90</td>\n",
              "      <td>75</td>\n",
              "      <td>16</td>\n",
              "      <td>94</td>\n",
              "      <td>None</td>\n",
              "      <td>None</td>\n",
              "      <td>Abnormal Potassium</td>\n",
              "      <td>Headache</td>\n",
              "      <td>Moderate</td>\n",
              "    </tr>\n",
              "    <tr>\n",
              "      <th>13</th>\n",
              "      <td>32</td>\n",
              "      <td>Male</td>\n",
              "      <td>Asian</td>\n",
              "      <td>22</td>\n",
              "      <td>120</td>\n",
              "      <td>80</td>\n",
              "      <td>75</td>\n",
              "      <td>16</td>\n",
              "      <td>98</td>\n",
              "      <td>None</td>\n",
              "      <td>None</td>\n",
              "      <td>Normal</td>\n",
              "      <td>Headache</td>\n",
              "      <td>Mild</td>\n",
              "    </tr>\n",
              "    <tr>\n",
              "      <th>14</th>\n",
              "      <td>45</td>\n",
              "      <td>Female</td>\n",
              "      <td>Black</td>\n",
              "      <td>28</td>\n",
              "      <td>136</td>\n",
              "      <td>92</td>\n",
              "      <td>80</td>\n",
              "      <td>18</td>\n",
              "      <td>95</td>\n",
              "      <td>Hypertension</td>\n",
              "      <td>None</td>\n",
              "      <td>Abnormal</td>\n",
              "      <td>Chest Pain</td>\n",
              "      <td>Severe</td>\n",
              "    </tr>\n",
              "    <tr>\n",
              "      <th>15</th>\n",
              "      <td>58</td>\n",
              "      <td>Male</td>\n",
              "      <td>White</td>\n",
              "      <td>34</td>\n",
              "      <td>150</td>\n",
              "      <td>100</td>\n",
              "      <td>70</td>\n",
              "      <td>20</td>\n",
              "      <td>90</td>\n",
              "      <td>Diabetes</td>\n",
              "      <td>Insulin</td>\n",
              "      <td>Abnormal</td>\n",
              "      <td>Shortness Breath</td>\n",
              "      <td>Moderate</td>\n",
              "    </tr>\n",
              "    <tr>\n",
              "      <th>16</th>\n",
              "      <td>72</td>\n",
              "      <td>Female</td>\n",
              "      <td>Hispanic</td>\n",
              "      <td>26</td>\n",
              "      <td>128</td>\n",
              "      <td>84</td>\n",
              "      <td>85</td>\n",
              "      <td>14</td>\n",
              "      <td>97</td>\n",
              "      <td>Heart Disease</td>\n",
              "      <td>Blood thinners</td>\n",
              "      <td>Normal</td>\n",
              "      <td>Dizziness</td>\n",
              "      <td>Mild</td>\n",
              "    </tr>\n",
              "    <tr>\n",
              "      <th>17</th>\n",
              "      <td>41</td>\n",
              "      <td>Male</td>\n",
              "      <td>Black</td>\n",
              "      <td>30</td>\n",
              "      <td>142</td>\n",
              "      <td>94</td>\n",
              "      <td>77</td>\n",
              "      <td>16</td>\n",
              "      <td>96</td>\n",
              "      <td>Hypertension</td>\n",
              "      <td>None</td>\n",
              "      <td>Normal</td>\n",
              "      <td>Fatigue</td>\n",
              "      <td>Moderate</td>\n",
              "    </tr>\n",
              "    <tr>\n",
              "      <th>18</th>\n",
              "      <td>45</td>\n",
              "      <td>Male</td>\n",
              "      <td>Asian</td>\n",
              "      <td>24</td>\n",
              "      <td>120</td>\n",
              "      <td>80</td>\n",
              "      <td>70</td>\n",
              "      <td>16</td>\n",
              "      <td>98</td>\n",
              "      <td>None</td>\n",
              "      <td>None</td>\n",
              "      <td>Normal</td>\n",
              "      <td>Fever</td>\n",
              "      <td>Mild</td>\n",
              "    </tr>\n",
              "    <tr>\n",
              "      <th>19</th>\n",
              "      <td>65</td>\n",
              "      <td>Female</td>\n",
              "      <td>Caucasian</td>\n",
              "      <td>28</td>\n",
              "      <td>140</td>\n",
              "      <td>90</td>\n",
              "      <td>80</td>\n",
              "      <td>20</td>\n",
              "      <td>95</td>\n",
              "      <td>Hypertension</td>\n",
              "      <td>Blood thinners</td>\n",
              "      <td>High glucose</td>\n",
              "      <td>Chest pain</td>\n",
              "      <td>Moderate</td>\n",
              "    </tr>\n",
              "    <tr>\n",
              "      <th>20</th>\n",
              "      <td>30</td>\n",
              "      <td>Male</td>\n",
              "      <td>African</td>\n",
              "      <td>32</td>\n",
              "      <td>130</td>\n",
              "      <td>85</td>\n",
              "      <td>85</td>\n",
              "      <td>18</td>\n",
              "      <td>96</td>\n",
              "      <td>Diabetes</td>\n",
              "      <td>Insulin</td>\n",
              "      <td>Normal</td>\n",
              "      <td>Shortness of breath</td>\n",
              "      <td>Severe</td>\n",
              "    </tr>\n",
              "    <tr>\n",
              "      <th>21</th>\n",
              "      <td>58</td>\n",
              "      <td>Female</td>\n",
              "      <td>Hispanic</td>\n",
              "      <td>26</td>\n",
              "      <td>125</td>\n",
              "      <td>80</td>\n",
              "      <td>75</td>\n",
              "      <td>16</td>\n",
              "      <td>97</td>\n",
              "      <td>Heart disease</td>\n",
              "      <td>Blood thinners</td>\n",
              "      <td>Abnormal</td>\n",
              "      <td>Dizziness</td>\n",
              "      <td>Mild</td>\n",
              "    </tr>\n",
              "  </tbody>\n",
              "</table>\n",
              "</div>\n",
              "      <button class=\"colab-df-convert\" onclick=\"convertToInteractive('df-e63986c3-ae37-4812-86b5-bdc495cadef5')\"\n",
              "              title=\"Convert this dataframe to an interactive table.\"\n",
              "              style=\"display:none;\">\n",
              "        \n",
              "  <svg xmlns=\"http://www.w3.org/2000/svg\" height=\"24px\"viewBox=\"0 0 24 24\"\n",
              "       width=\"24px\">\n",
              "    <path d=\"M0 0h24v24H0V0z\" fill=\"none\"/>\n",
              "    <path d=\"M18.56 5.44l.94 2.06.94-2.06 2.06-.94-2.06-.94-.94-2.06-.94 2.06-2.06.94zm-11 1L8.5 8.5l.94-2.06 2.06-.94-2.06-.94L8.5 2.5l-.94 2.06-2.06.94zm10 10l.94 2.06.94-2.06 2.06-.94-2.06-.94-.94-2.06-.94 2.06-2.06.94z\"/><path d=\"M17.41 7.96l-1.37-1.37c-.4-.4-.92-.59-1.43-.59-.52 0-1.04.2-1.43.59L10.3 9.45l-7.72 7.72c-.78.78-.78 2.05 0 2.83L4 21.41c.39.39.9.59 1.41.59.51 0 1.02-.2 1.41-.59l7.78-7.78 2.81-2.81c.8-.78.8-2.07 0-2.86zM5.41 20L4 18.59l7.72-7.72 1.47 1.35L5.41 20z\"/>\n",
              "  </svg>\n",
              "      </button>\n",
              "      \n",
              "  <style>\n",
              "    .colab-df-container {\n",
              "      display:flex;\n",
              "      flex-wrap:wrap;\n",
              "      gap: 12px;\n",
              "    }\n",
              "\n",
              "    .colab-df-convert {\n",
              "      background-color: #E8F0FE;\n",
              "      border: none;\n",
              "      border-radius: 50%;\n",
              "      cursor: pointer;\n",
              "      display: none;\n",
              "      fill: #1967D2;\n",
              "      height: 32px;\n",
              "      padding: 0 0 0 0;\n",
              "      width: 32px;\n",
              "    }\n",
              "\n",
              "    .colab-df-convert:hover {\n",
              "      background-color: #E2EBFA;\n",
              "      box-shadow: 0px 1px 2px rgba(60, 64, 67, 0.3), 0px 1px 3px 1px rgba(60, 64, 67, 0.15);\n",
              "      fill: #174EA6;\n",
              "    }\n",
              "\n",
              "    [theme=dark] .colab-df-convert {\n",
              "      background-color: #3B4455;\n",
              "      fill: #D2E3FC;\n",
              "    }\n",
              "\n",
              "    [theme=dark] .colab-df-convert:hover {\n",
              "      background-color: #434B5C;\n",
              "      box-shadow: 0px 1px 3px 1px rgba(0, 0, 0, 0.15);\n",
              "      filter: drop-shadow(0px 1px 2px rgba(0, 0, 0, 0.3));\n",
              "      fill: #FFFFFF;\n",
              "    }\n",
              "  </style>\n",
              "\n",
              "      <script>\n",
              "        const buttonEl =\n",
              "          document.querySelector('#df-e63986c3-ae37-4812-86b5-bdc495cadef5 button.colab-df-convert');\n",
              "        buttonEl.style.display =\n",
              "          google.colab.kernel.accessAllowed ? 'block' : 'none';\n",
              "\n",
              "        async function convertToInteractive(key) {\n",
              "          const element = document.querySelector('#df-e63986c3-ae37-4812-86b5-bdc495cadef5');\n",
              "          const dataTable =\n",
              "            await google.colab.kernel.invokeFunction('convertToInteractive',\n",
              "                                                     [key], {});\n",
              "          if (!dataTable) return;\n",
              "\n",
              "          const docLinkHtml = 'Like what you see? Visit the ' +\n",
              "            '<a target=\"_blank\" href=https://colab.research.google.com/notebooks/data_table.ipynb>data table notebook</a>'\n",
              "            + ' to learn more about interactive tables.';\n",
              "          element.innerHTML = '';\n",
              "          dataTable['output_type'] = 'display_data';\n",
              "          await google.colab.output.renderOutput(dataTable, element);\n",
              "          const docLink = document.createElement('div');\n",
              "          docLink.innerHTML = docLinkHtml;\n",
              "          element.appendChild(docLink);\n",
              "        }\n",
              "      </script>\n",
              "    </div>\n",
              "  </div>\n",
              "  "
            ]
          },
          "metadata": {},
          "execution_count": 1
        }
      ],
      "source": [
        "import pandas as pd\n",
        "import numpy as np\n",
        "d=pd.read_csv('/content/patient_data.csv')\n",
        "d"
      ]
    },
    {
      "cell_type": "code",
      "source": [
        "d.info()"
      ],
      "metadata": {
        "colab": {
          "base_uri": "https://localhost:8080/",
          "height": 0
        },
        "id": "JaZuvsNfCWxP",
        "outputId": "e11df98f-a2bc-49b8-f13b-6a6338078102"
      },
      "execution_count": 2,
      "outputs": [
        {
          "output_type": "stream",
          "name": "stdout",
          "text": [
            "<class 'pandas.core.frame.DataFrame'>\n",
            "RangeIndex: 22 entries, 0 to 21\n",
            "Data columns (total 14 columns):\n",
            " #   Column                      Non-Null Count  Dtype \n",
            "---  ------                      --------------  ----- \n",
            " 0   Age                         22 non-null     int64 \n",
            " 1   Gender                      22 non-null     object\n",
            " 2   Ethnicity                   22 non-null     object\n",
            " 3   BMI                         22 non-null     int64 \n",
            " 4   Blood Pressure (systolic)   22 non-null     int64 \n",
            " 5   Blood Pressure (diastolic)  22 non-null     int64 \n",
            " 6   Heart Rate                  22 non-null     int64 \n",
            " 7   Respiratory Rate            22 non-null     int64 \n",
            " 8   Oxygen Saturation Level     22 non-null     int64 \n",
            " 9   Chronic Conditions          22 non-null     object\n",
            " 10  Medications                 22 non-null     object\n",
            " 11  Lab Test Results            22 non-null     object\n",
            " 12  Chief Complaint             22 non-null     object\n",
            " 13  Severity                    22 non-null     object\n",
            "dtypes: int64(7), object(7)\n",
            "memory usage: 2.5+ KB\n"
          ]
        }
      ]
    },
    {
      "cell_type": "code",
      "source": [
        "d.columns=d.columns.str.replace(' ','_')\n",
        "d.columns"
      ],
      "metadata": {
        "colab": {
          "base_uri": "https://localhost:8080/",
          "height": 0
        },
        "id": "vYXIZgrqCc_i",
        "outputId": "6cb3fb42-a4c3-475d-d1d5-81e6d16b0283"
      },
      "execution_count": 4,
      "outputs": [
        {
          "output_type": "execute_result",
          "data": {
            "text/plain": [
              "Index(['Age', 'Gender', 'Ethnicity', 'BMI', 'Blood_Pressure_(systolic)',\n",
              "       'Blood_Pressure_(diastolic)', 'Heart_Rate', 'Respiratory_Rate',\n",
              "       'Oxygen_Saturation_Level', 'Chronic_Conditions', 'Medications',\n",
              "       'Lab_Test_Results', 'Chief_Complaint', 'Severity'],\n",
              "      dtype='object')"
            ]
          },
          "metadata": {},
          "execution_count": 4
        }
      ]
    },
    {
      "cell_type": "code",
      "source": [
        "d.describe()"
      ],
      "metadata": {
        "colab": {
          "base_uri": "https://localhost:8080/",
          "height": 300
        },
        "id": "mAhDr3hVChsV",
        "outputId": "9dd8da5b-baf1-404f-9f03-b6b2db376add"
      },
      "execution_count": 6,
      "outputs": [
        {
          "output_type": "execute_result",
          "data": {
            "text/plain": [
              "             Age        BMI  Blood_Pressure_(systolic)  \\\n",
              "count  22.000000  22.000000                  22.000000   \n",
              "mean   48.272727  27.863636                 133.909091   \n",
              "std    14.528074   3.870468                  14.857767   \n",
              "min    27.000000  22.000000                 110.000000   \n",
              "25%    36.250000  25.250000                 121.250000   \n",
              "50%    46.500000  27.500000                 132.500000   \n",
              "75%    58.000000  30.750000                 141.500000   \n",
              "max    75.000000  35.000000                 170.000000   \n",
              "\n",
              "       Blood_Pressure_(diastolic)  Heart_Rate  Respiratory_Rate  \\\n",
              "count                   22.000000   22.000000         22.000000   \n",
              "mean                    88.181818   78.272727         16.909091   \n",
              "std                      9.515083    6.048863          2.113654   \n",
              "min                     72.000000   70.000000         14.000000   \n",
              "25%                     80.000000   75.000000         16.000000   \n",
              "50%                     87.500000   78.500000         16.000000   \n",
              "75%                     94.750000   80.000000         18.000000   \n",
              "max                    110.000000   90.000000         20.000000   \n",
              "\n",
              "       Oxygen_Saturation_Level  \n",
              "count                22.000000  \n",
              "mean                 95.090909  \n",
              "std                   2.505405  \n",
              "min                  90.000000  \n",
              "25%                  94.000000  \n",
              "50%                  96.000000  \n",
              "75%                  97.000000  \n",
              "max                  98.000000  "
            ],
            "text/html": [
              "\n",
              "  <div id=\"df-d38c47cf-4e1b-4197-b388-b025ca55cab5\">\n",
              "    <div class=\"colab-df-container\">\n",
              "      <div>\n",
              "<style scoped>\n",
              "    .dataframe tbody tr th:only-of-type {\n",
              "        vertical-align: middle;\n",
              "    }\n",
              "\n",
              "    .dataframe tbody tr th {\n",
              "        vertical-align: top;\n",
              "    }\n",
              "\n",
              "    .dataframe thead th {\n",
              "        text-align: right;\n",
              "    }\n",
              "</style>\n",
              "<table border=\"1\" class=\"dataframe\">\n",
              "  <thead>\n",
              "    <tr style=\"text-align: right;\">\n",
              "      <th></th>\n",
              "      <th>Age</th>\n",
              "      <th>BMI</th>\n",
              "      <th>Blood_Pressure_(systolic)</th>\n",
              "      <th>Blood_Pressure_(diastolic)</th>\n",
              "      <th>Heart_Rate</th>\n",
              "      <th>Respiratory_Rate</th>\n",
              "      <th>Oxygen_Saturation_Level</th>\n",
              "    </tr>\n",
              "  </thead>\n",
              "  <tbody>\n",
              "    <tr>\n",
              "      <th>count</th>\n",
              "      <td>22.000000</td>\n",
              "      <td>22.000000</td>\n",
              "      <td>22.000000</td>\n",
              "      <td>22.000000</td>\n",
              "      <td>22.000000</td>\n",
              "      <td>22.000000</td>\n",
              "      <td>22.000000</td>\n",
              "    </tr>\n",
              "    <tr>\n",
              "      <th>mean</th>\n",
              "      <td>48.272727</td>\n",
              "      <td>27.863636</td>\n",
              "      <td>133.909091</td>\n",
              "      <td>88.181818</td>\n",
              "      <td>78.272727</td>\n",
              "      <td>16.909091</td>\n",
              "      <td>95.090909</td>\n",
              "    </tr>\n",
              "    <tr>\n",
              "      <th>std</th>\n",
              "      <td>14.528074</td>\n",
              "      <td>3.870468</td>\n",
              "      <td>14.857767</td>\n",
              "      <td>9.515083</td>\n",
              "      <td>6.048863</td>\n",
              "      <td>2.113654</td>\n",
              "      <td>2.505405</td>\n",
              "    </tr>\n",
              "    <tr>\n",
              "      <th>min</th>\n",
              "      <td>27.000000</td>\n",
              "      <td>22.000000</td>\n",
              "      <td>110.000000</td>\n",
              "      <td>72.000000</td>\n",
              "      <td>70.000000</td>\n",
              "      <td>14.000000</td>\n",
              "      <td>90.000000</td>\n",
              "    </tr>\n",
              "    <tr>\n",
              "      <th>25%</th>\n",
              "      <td>36.250000</td>\n",
              "      <td>25.250000</td>\n",
              "      <td>121.250000</td>\n",
              "      <td>80.000000</td>\n",
              "      <td>75.000000</td>\n",
              "      <td>16.000000</td>\n",
              "      <td>94.000000</td>\n",
              "    </tr>\n",
              "    <tr>\n",
              "      <th>50%</th>\n",
              "      <td>46.500000</td>\n",
              "      <td>27.500000</td>\n",
              "      <td>132.500000</td>\n",
              "      <td>87.500000</td>\n",
              "      <td>78.500000</td>\n",
              "      <td>16.000000</td>\n",
              "      <td>96.000000</td>\n",
              "    </tr>\n",
              "    <tr>\n",
              "      <th>75%</th>\n",
              "      <td>58.000000</td>\n",
              "      <td>30.750000</td>\n",
              "      <td>141.500000</td>\n",
              "      <td>94.750000</td>\n",
              "      <td>80.000000</td>\n",
              "      <td>18.000000</td>\n",
              "      <td>97.000000</td>\n",
              "    </tr>\n",
              "    <tr>\n",
              "      <th>max</th>\n",
              "      <td>75.000000</td>\n",
              "      <td>35.000000</td>\n",
              "      <td>170.000000</td>\n",
              "      <td>110.000000</td>\n",
              "      <td>90.000000</td>\n",
              "      <td>20.000000</td>\n",
              "      <td>98.000000</td>\n",
              "    </tr>\n",
              "  </tbody>\n",
              "</table>\n",
              "</div>\n",
              "      <button class=\"colab-df-convert\" onclick=\"convertToInteractive('df-d38c47cf-4e1b-4197-b388-b025ca55cab5')\"\n",
              "              title=\"Convert this dataframe to an interactive table.\"\n",
              "              style=\"display:none;\">\n",
              "        \n",
              "  <svg xmlns=\"http://www.w3.org/2000/svg\" height=\"24px\"viewBox=\"0 0 24 24\"\n",
              "       width=\"24px\">\n",
              "    <path d=\"M0 0h24v24H0V0z\" fill=\"none\"/>\n",
              "    <path d=\"M18.56 5.44l.94 2.06.94-2.06 2.06-.94-2.06-.94-.94-2.06-.94 2.06-2.06.94zm-11 1L8.5 8.5l.94-2.06 2.06-.94-2.06-.94L8.5 2.5l-.94 2.06-2.06.94zm10 10l.94 2.06.94-2.06 2.06-.94-2.06-.94-.94-2.06-.94 2.06-2.06.94z\"/><path d=\"M17.41 7.96l-1.37-1.37c-.4-.4-.92-.59-1.43-.59-.52 0-1.04.2-1.43.59L10.3 9.45l-7.72 7.72c-.78.78-.78 2.05 0 2.83L4 21.41c.39.39.9.59 1.41.59.51 0 1.02-.2 1.41-.59l7.78-7.78 2.81-2.81c.8-.78.8-2.07 0-2.86zM5.41 20L4 18.59l7.72-7.72 1.47 1.35L5.41 20z\"/>\n",
              "  </svg>\n",
              "      </button>\n",
              "      \n",
              "  <style>\n",
              "    .colab-df-container {\n",
              "      display:flex;\n",
              "      flex-wrap:wrap;\n",
              "      gap: 12px;\n",
              "    }\n",
              "\n",
              "    .colab-df-convert {\n",
              "      background-color: #E8F0FE;\n",
              "      border: none;\n",
              "      border-radius: 50%;\n",
              "      cursor: pointer;\n",
              "      display: none;\n",
              "      fill: #1967D2;\n",
              "      height: 32px;\n",
              "      padding: 0 0 0 0;\n",
              "      width: 32px;\n",
              "    }\n",
              "\n",
              "    .colab-df-convert:hover {\n",
              "      background-color: #E2EBFA;\n",
              "      box-shadow: 0px 1px 2px rgba(60, 64, 67, 0.3), 0px 1px 3px 1px rgba(60, 64, 67, 0.15);\n",
              "      fill: #174EA6;\n",
              "    }\n",
              "\n",
              "    [theme=dark] .colab-df-convert {\n",
              "      background-color: #3B4455;\n",
              "      fill: #D2E3FC;\n",
              "    }\n",
              "\n",
              "    [theme=dark] .colab-df-convert:hover {\n",
              "      background-color: #434B5C;\n",
              "      box-shadow: 0px 1px 3px 1px rgba(0, 0, 0, 0.15);\n",
              "      filter: drop-shadow(0px 1px 2px rgba(0, 0, 0, 0.3));\n",
              "      fill: #FFFFFF;\n",
              "    }\n",
              "  </style>\n",
              "\n",
              "      <script>\n",
              "        const buttonEl =\n",
              "          document.querySelector('#df-d38c47cf-4e1b-4197-b388-b025ca55cab5 button.colab-df-convert');\n",
              "        buttonEl.style.display =\n",
              "          google.colab.kernel.accessAllowed ? 'block' : 'none';\n",
              "\n",
              "        async function convertToInteractive(key) {\n",
              "          const element = document.querySelector('#df-d38c47cf-4e1b-4197-b388-b025ca55cab5');\n",
              "          const dataTable =\n",
              "            await google.colab.kernel.invokeFunction('convertToInteractive',\n",
              "                                                     [key], {});\n",
              "          if (!dataTable) return;\n",
              "\n",
              "          const docLinkHtml = 'Like what you see? Visit the ' +\n",
              "            '<a target=\"_blank\" href=https://colab.research.google.com/notebooks/data_table.ipynb>data table notebook</a>'\n",
              "            + ' to learn more about interactive tables.';\n",
              "          element.innerHTML = '';\n",
              "          dataTable['output_type'] = 'display_data';\n",
              "          await google.colab.output.renderOutput(dataTable, element);\n",
              "          const docLink = document.createElement('div');\n",
              "          docLink.innerHTML = docLinkHtml;\n",
              "          element.appendChild(docLink);\n",
              "        }\n",
              "      </script>\n",
              "    </div>\n",
              "  </div>\n",
              "  "
            ]
          },
          "metadata": {},
          "execution_count": 6
        }
      ]
    },
    {
      "cell_type": "code",
      "source": [
        "df=d.select_dtypes(exclude=['object'])"
      ],
      "metadata": {
        "id": "rs7Zs24TCnGn"
      },
      "execution_count": 7,
      "outputs": []
    },
    {
      "cell_type": "code",
      "source": [
        "df.info()"
      ],
      "metadata": {
        "colab": {
          "base_uri": "https://localhost:8080/",
          "height": 0
        },
        "id": "A5CUU2uvCuBO",
        "outputId": "cd704a6c-14ef-4902-99a8-33a578a93afa"
      },
      "execution_count": 8,
      "outputs": [
        {
          "output_type": "stream",
          "name": "stdout",
          "text": [
            "<class 'pandas.core.frame.DataFrame'>\n",
            "RangeIndex: 22 entries, 0 to 21\n",
            "Data columns (total 7 columns):\n",
            " #   Column                      Non-Null Count  Dtype\n",
            "---  ------                      --------------  -----\n",
            " 0   Age                         22 non-null     int64\n",
            " 1   BMI                         22 non-null     int64\n",
            " 2   Blood_Pressure_(systolic)   22 non-null     int64\n",
            " 3   Blood_Pressure_(diastolic)  22 non-null     int64\n",
            " 4   Heart_Rate                  22 non-null     int64\n",
            " 5   Respiratory_Rate            22 non-null     int64\n",
            " 6   Oxygen_Saturation_Level     22 non-null     int64\n",
            "dtypes: int64(7)\n",
            "memory usage: 1.3 KB\n"
          ]
        }
      ]
    },
    {
      "cell_type": "code",
      "source": [
        "# Import label encoder\n",
        "from sklearn import preprocessing\n",
        "# label_encoder object knows how to understand word labels.\n",
        "lc = preprocessing.LabelEncoder()\n",
        "d['Severity']= lc.fit_transform(d['Severity'])\n",
        "d['Severity'].unique()"
      ],
      "metadata": {
        "colab": {
          "base_uri": "https://localhost:8080/",
          "height": 0
        },
        "id": "xCCQ9ro2Cv5_",
        "outputId": "bd031bee-56cf-4c99-a6e0-85184399825e"
      },
      "execution_count": 9,
      "outputs": [
        {
          "output_type": "execute_result",
          "data": {
            "text/plain": [
              "array([2, 1, 0])"
            ]
          },
          "metadata": {},
          "execution_count": 9
        }
      ]
    },
    {
      "cell_type": "code",
      "source": [
        "x=df\n",
        "y=d['Severity']"
      ],
      "metadata": {
        "id": "YNM5v_yXC9l_"
      },
      "execution_count": 10,
      "outputs": []
    },
    {
      "cell_type": "code",
      "source": [
        "from sklearn.model_selection import train_test_split\n",
        "x_tr,x_ts,y_tr,y_ts=train_test_split(x,y,test_size=0.2, random_state=11)"
      ],
      "metadata": {
        "id": "hG8zjUQfDCw6"
      },
      "execution_count": 11,
      "outputs": []
    },
    {
      "cell_type": "code",
      "source": [
        "from sklearn.svm import SVC\n",
        "model=SVC(kernel='rbf')\n",
        "model.fit(x_tr,y_tr)"
      ],
      "metadata": {
        "colab": {
          "base_uri": "https://localhost:8080/",
          "height": 74
        },
        "id": "bXqMshJhDMNL",
        "outputId": "c4a45004-5b97-4630-c302-c23ae7bd536c"
      },
      "execution_count": 12,
      "outputs": [
        {
          "output_type": "execute_result",
          "data": {
            "text/plain": [
              "SVC()"
            ],
            "text/html": [
              "<style>#sk-container-id-1 {color: black;background-color: white;}#sk-container-id-1 pre{padding: 0;}#sk-container-id-1 div.sk-toggleable {background-color: white;}#sk-container-id-1 label.sk-toggleable__label {cursor: pointer;display: block;width: 100%;margin-bottom: 0;padding: 0.3em;box-sizing: border-box;text-align: center;}#sk-container-id-1 label.sk-toggleable__label-arrow:before {content: \"▸\";float: left;margin-right: 0.25em;color: #696969;}#sk-container-id-1 label.sk-toggleable__label-arrow:hover:before {color: black;}#sk-container-id-1 div.sk-estimator:hover label.sk-toggleable__label-arrow:before {color: black;}#sk-container-id-1 div.sk-toggleable__content {max-height: 0;max-width: 0;overflow: hidden;text-align: left;background-color: #f0f8ff;}#sk-container-id-1 div.sk-toggleable__content pre {margin: 0.2em;color: black;border-radius: 0.25em;background-color: #f0f8ff;}#sk-container-id-1 input.sk-toggleable__control:checked~div.sk-toggleable__content {max-height: 200px;max-width: 100%;overflow: auto;}#sk-container-id-1 input.sk-toggleable__control:checked~label.sk-toggleable__label-arrow:before {content: \"▾\";}#sk-container-id-1 div.sk-estimator input.sk-toggleable__control:checked~label.sk-toggleable__label {background-color: #d4ebff;}#sk-container-id-1 div.sk-label input.sk-toggleable__control:checked~label.sk-toggleable__label {background-color: #d4ebff;}#sk-container-id-1 input.sk-hidden--visually {border: 0;clip: rect(1px 1px 1px 1px);clip: rect(1px, 1px, 1px, 1px);height: 1px;margin: -1px;overflow: hidden;padding: 0;position: absolute;width: 1px;}#sk-container-id-1 div.sk-estimator {font-family: monospace;background-color: #f0f8ff;border: 1px dotted black;border-radius: 0.25em;box-sizing: border-box;margin-bottom: 0.5em;}#sk-container-id-1 div.sk-estimator:hover {background-color: #d4ebff;}#sk-container-id-1 div.sk-parallel-item::after {content: \"\";width: 100%;border-bottom: 1px solid gray;flex-grow: 1;}#sk-container-id-1 div.sk-label:hover label.sk-toggleable__label {background-color: #d4ebff;}#sk-container-id-1 div.sk-serial::before {content: \"\";position: absolute;border-left: 1px solid gray;box-sizing: border-box;top: 0;bottom: 0;left: 50%;z-index: 0;}#sk-container-id-1 div.sk-serial {display: flex;flex-direction: column;align-items: center;background-color: white;padding-right: 0.2em;padding-left: 0.2em;position: relative;}#sk-container-id-1 div.sk-item {position: relative;z-index: 1;}#sk-container-id-1 div.sk-parallel {display: flex;align-items: stretch;justify-content: center;background-color: white;position: relative;}#sk-container-id-1 div.sk-item::before, #sk-container-id-1 div.sk-parallel-item::before {content: \"\";position: absolute;border-left: 1px solid gray;box-sizing: border-box;top: 0;bottom: 0;left: 50%;z-index: -1;}#sk-container-id-1 div.sk-parallel-item {display: flex;flex-direction: column;z-index: 1;position: relative;background-color: white;}#sk-container-id-1 div.sk-parallel-item:first-child::after {align-self: flex-end;width: 50%;}#sk-container-id-1 div.sk-parallel-item:last-child::after {align-self: flex-start;width: 50%;}#sk-container-id-1 div.sk-parallel-item:only-child::after {width: 0;}#sk-container-id-1 div.sk-dashed-wrapped {border: 1px dashed gray;margin: 0 0.4em 0.5em 0.4em;box-sizing: border-box;padding-bottom: 0.4em;background-color: white;}#sk-container-id-1 div.sk-label label {font-family: monospace;font-weight: bold;display: inline-block;line-height: 1.2em;}#sk-container-id-1 div.sk-label-container {text-align: center;}#sk-container-id-1 div.sk-container {/* jupyter's `normalize.less` sets `[hidden] { display: none; }` but bootstrap.min.css set `[hidden] { display: none !important; }` so we also need the `!important` here to be able to override the default hidden behavior on the sphinx rendered scikit-learn.org. See: https://github.com/scikit-learn/scikit-learn/issues/21755 */display: inline-block !important;position: relative;}#sk-container-id-1 div.sk-text-repr-fallback {display: none;}</style><div id=\"sk-container-id-1\" class=\"sk-top-container\"><div class=\"sk-text-repr-fallback\"><pre>SVC()</pre><b>In a Jupyter environment, please rerun this cell to show the HTML representation or trust the notebook. <br />On GitHub, the HTML representation is unable to render, please try loading this page with nbviewer.org.</b></div><div class=\"sk-container\" hidden><div class=\"sk-item\"><div class=\"sk-estimator sk-toggleable\"><input class=\"sk-toggleable__control sk-hidden--visually\" id=\"sk-estimator-id-1\" type=\"checkbox\" checked><label for=\"sk-estimator-id-1\" class=\"sk-toggleable__label sk-toggleable__label-arrow\">SVC</label><div class=\"sk-toggleable__content\"><pre>SVC()</pre></div></div></div></div></div>"
            ]
          },
          "metadata": {},
          "execution_count": 12
        }
      ]
    },
    {
      "cell_type": "code",
      "source": [
        "predict=model.predict(x_ts)"
      ],
      "metadata": {
        "id": "pQvGpoTEDSXW"
      },
      "execution_count": 13,
      "outputs": []
    },
    {
      "cell_type": "code",
      "source": [
        "from sklearn import metrics\n",
        "metrics.mean_absolute_error(y_ts,predict)"
      ],
      "metadata": {
        "colab": {
          "base_uri": "https://localhost:8080/",
          "height": 0
        },
        "id": "aoFWzeFNDXQ5",
        "outputId": "dea14f25-23f1-44be-ac6e-579faca4a645"
      },
      "execution_count": 14,
      "outputs": [
        {
          "output_type": "execute_result",
          "data": {
            "text/plain": [
              "0.8"
            ]
          },
          "metadata": {},
          "execution_count": 14
        }
      ]
    },
    {
      "cell_type": "code",
      "source": [
        "metrics.mean_squared_error(y_ts,predict)"
      ],
      "metadata": {
        "colab": {
          "base_uri": "https://localhost:8080/",
          "height": 0
        },
        "id": "mVA8yBivDb0D",
        "outputId": "d059deba-2304-4b6c-a222-859554f9390c"
      },
      "execution_count": 15,
      "outputs": [
        {
          "output_type": "execute_result",
          "data": {
            "text/plain": [
              "1.2"
            ]
          },
          "metadata": {},
          "execution_count": 15
        }
      ]
    },
    {
      "cell_type": "code",
      "source": [
        "import numpy as np\n",
        "rmse=np.sqrt(metrics.mean_squared_error(y_ts,predict))\n",
        "print(rmse)"
      ],
      "metadata": {
        "colab": {
          "base_uri": "https://localhost:8080/",
          "height": 0
        },
        "id": "YWAv31dSDfuo",
        "outputId": "a8b1cf4e-181b-41f2-ee7f-73aa753ddc25"
      },
      "execution_count": 16,
      "outputs": [
        {
          "output_type": "stream",
          "name": "stdout",
          "text": [
            "1.0954451150103321\n"
          ]
        }
      ]
    },
    {
      "cell_type": "code",
      "source": [
        "from sklearn.metrics import classification_report , confusion_matrix\n",
        "print(classification_report(y_ts,predict))\n",
        "print(confusion_matrix(y_ts,predict))"
      ],
      "metadata": {
        "colab": {
          "base_uri": "https://localhost:8080/",
          "height": 0
        },
        "id": "tJrnKWRhDlYq",
        "outputId": "cad00455-2eb8-4f91-b0cf-15cd44445534"
      },
      "execution_count": 17,
      "outputs": [
        {
          "output_type": "stream",
          "name": "stdout",
          "text": [
            "              precision    recall  f1-score   support\n",
            "\n",
            "           0       0.50      1.00      0.67         1\n",
            "           1       0.33      1.00      0.50         1\n",
            "           2       0.00      0.00      0.00         3\n",
            "\n",
            "    accuracy                           0.40         5\n",
            "   macro avg       0.28      0.67      0.39         5\n",
            "weighted avg       0.17      0.40      0.23         5\n",
            "\n",
            "[[1 0 0]\n",
            " [0 1 0]\n",
            " [1 2 0]]\n"
          ]
        },
        {
          "output_type": "stream",
          "name": "stderr",
          "text": [
            "/usr/local/lib/python3.9/dist-packages/sklearn/metrics/_classification.py:1344: UndefinedMetricWarning: Precision and F-score are ill-defined and being set to 0.0 in labels with no predicted samples. Use `zero_division` parameter to control this behavior.\n",
            "  _warn_prf(average, modifier, msg_start, len(result))\n",
            "/usr/local/lib/python3.9/dist-packages/sklearn/metrics/_classification.py:1344: UndefinedMetricWarning: Precision and F-score are ill-defined and being set to 0.0 in labels with no predicted samples. Use `zero_division` parameter to control this behavior.\n",
            "  _warn_prf(average, modifier, msg_start, len(result))\n",
            "/usr/local/lib/python3.9/dist-packages/sklearn/metrics/_classification.py:1344: UndefinedMetricWarning: Precision and F-score are ill-defined and being set to 0.0 in labels with no predicted samples. Use `zero_division` parameter to control this behavior.\n",
            "  _warn_prf(average, modifier, msg_start, len(result))\n"
          ]
        }
      ]
    },
    {
      "cell_type": "code",
      "source": [
        "from sklearn import preprocessing\n",
        "df1=df.copy()\n",
        "#scaler=preprocessing.MinMaxScaler()->default feature_range=(0,1)\n",
        "scalar=preprocessing.MinMaxScaler(feature_range=(0,1))\n",
        "df1.iloc[:,:]=scalar.fit_transform(df)"
      ],
      "metadata": {
        "id": "_0MEgFJADrXO"
      },
      "execution_count": 18,
      "outputs": []
    },
    {
      "cell_type": "code",
      "source": [
        "x=df1\n",
        "y=d['Severity']"
      ],
      "metadata": {
        "id": "qLS_SJUYFLWL"
      },
      "execution_count": 19,
      "outputs": []
    },
    {
      "cell_type": "code",
      "source": [
        "from sklearn.model_selection import train_test_split\n",
        "x_tr,x_ts,y_tr,y_ts=train_test_split(x,y,test_size=0.2, random_state=5)"
      ],
      "metadata": {
        "id": "Kd3mzU5tFO1R"
      },
      "execution_count": 20,
      "outputs": []
    },
    {
      "cell_type": "code",
      "source": [
        "from sklearn.svm import SVC\n",
        "model=SVC(kernel='rbf')\n",
        "model.fit(x_tr,y_tr)"
      ],
      "metadata": {
        "colab": {
          "base_uri": "https://localhost:8080/",
          "height": 74
        },
        "id": "AQ1ncOKYFXAr",
        "outputId": "b5f8570e-1d84-4757-8d91-0ea97e01fba8"
      },
      "execution_count": 21,
      "outputs": [
        {
          "output_type": "execute_result",
          "data": {
            "text/plain": [
              "SVC()"
            ],
            "text/html": [
              "<style>#sk-container-id-2 {color: black;background-color: white;}#sk-container-id-2 pre{padding: 0;}#sk-container-id-2 div.sk-toggleable {background-color: white;}#sk-container-id-2 label.sk-toggleable__label {cursor: pointer;display: block;width: 100%;margin-bottom: 0;padding: 0.3em;box-sizing: border-box;text-align: center;}#sk-container-id-2 label.sk-toggleable__label-arrow:before {content: \"▸\";float: left;margin-right: 0.25em;color: #696969;}#sk-container-id-2 label.sk-toggleable__label-arrow:hover:before {color: black;}#sk-container-id-2 div.sk-estimator:hover label.sk-toggleable__label-arrow:before {color: black;}#sk-container-id-2 div.sk-toggleable__content {max-height: 0;max-width: 0;overflow: hidden;text-align: left;background-color: #f0f8ff;}#sk-container-id-2 div.sk-toggleable__content pre {margin: 0.2em;color: black;border-radius: 0.25em;background-color: #f0f8ff;}#sk-container-id-2 input.sk-toggleable__control:checked~div.sk-toggleable__content {max-height: 200px;max-width: 100%;overflow: auto;}#sk-container-id-2 input.sk-toggleable__control:checked~label.sk-toggleable__label-arrow:before {content: \"▾\";}#sk-container-id-2 div.sk-estimator input.sk-toggleable__control:checked~label.sk-toggleable__label {background-color: #d4ebff;}#sk-container-id-2 div.sk-label input.sk-toggleable__control:checked~label.sk-toggleable__label {background-color: #d4ebff;}#sk-container-id-2 input.sk-hidden--visually {border: 0;clip: rect(1px 1px 1px 1px);clip: rect(1px, 1px, 1px, 1px);height: 1px;margin: -1px;overflow: hidden;padding: 0;position: absolute;width: 1px;}#sk-container-id-2 div.sk-estimator {font-family: monospace;background-color: #f0f8ff;border: 1px dotted black;border-radius: 0.25em;box-sizing: border-box;margin-bottom: 0.5em;}#sk-container-id-2 div.sk-estimator:hover {background-color: #d4ebff;}#sk-container-id-2 div.sk-parallel-item::after {content: \"\";width: 100%;border-bottom: 1px solid gray;flex-grow: 1;}#sk-container-id-2 div.sk-label:hover label.sk-toggleable__label {background-color: #d4ebff;}#sk-container-id-2 div.sk-serial::before {content: \"\";position: absolute;border-left: 1px solid gray;box-sizing: border-box;top: 0;bottom: 0;left: 50%;z-index: 0;}#sk-container-id-2 div.sk-serial {display: flex;flex-direction: column;align-items: center;background-color: white;padding-right: 0.2em;padding-left: 0.2em;position: relative;}#sk-container-id-2 div.sk-item {position: relative;z-index: 1;}#sk-container-id-2 div.sk-parallel {display: flex;align-items: stretch;justify-content: center;background-color: white;position: relative;}#sk-container-id-2 div.sk-item::before, #sk-container-id-2 div.sk-parallel-item::before {content: \"\";position: absolute;border-left: 1px solid gray;box-sizing: border-box;top: 0;bottom: 0;left: 50%;z-index: -1;}#sk-container-id-2 div.sk-parallel-item {display: flex;flex-direction: column;z-index: 1;position: relative;background-color: white;}#sk-container-id-2 div.sk-parallel-item:first-child::after {align-self: flex-end;width: 50%;}#sk-container-id-2 div.sk-parallel-item:last-child::after {align-self: flex-start;width: 50%;}#sk-container-id-2 div.sk-parallel-item:only-child::after {width: 0;}#sk-container-id-2 div.sk-dashed-wrapped {border: 1px dashed gray;margin: 0 0.4em 0.5em 0.4em;box-sizing: border-box;padding-bottom: 0.4em;background-color: white;}#sk-container-id-2 div.sk-label label {font-family: monospace;font-weight: bold;display: inline-block;line-height: 1.2em;}#sk-container-id-2 div.sk-label-container {text-align: center;}#sk-container-id-2 div.sk-container {/* jupyter's `normalize.less` sets `[hidden] { display: none; }` but bootstrap.min.css set `[hidden] { display: none !important; }` so we also need the `!important` here to be able to override the default hidden behavior on the sphinx rendered scikit-learn.org. See: https://github.com/scikit-learn/scikit-learn/issues/21755 */display: inline-block !important;position: relative;}#sk-container-id-2 div.sk-text-repr-fallback {display: none;}</style><div id=\"sk-container-id-2\" class=\"sk-top-container\"><div class=\"sk-text-repr-fallback\"><pre>SVC()</pre><b>In a Jupyter environment, please rerun this cell to show the HTML representation or trust the notebook. <br />On GitHub, the HTML representation is unable to render, please try loading this page with nbviewer.org.</b></div><div class=\"sk-container\" hidden><div class=\"sk-item\"><div class=\"sk-estimator sk-toggleable\"><input class=\"sk-toggleable__control sk-hidden--visually\" id=\"sk-estimator-id-2\" type=\"checkbox\" checked><label for=\"sk-estimator-id-2\" class=\"sk-toggleable__label sk-toggleable__label-arrow\">SVC</label><div class=\"sk-toggleable__content\"><pre>SVC()</pre></div></div></div></div></div>"
            ]
          },
          "metadata": {},
          "execution_count": 21
        }
      ]
    },
    {
      "cell_type": "code",
      "source": [
        "predict=model.predict(x_ts)"
      ],
      "metadata": {
        "id": "AsySjMzWFbmc"
      },
      "execution_count": 22,
      "outputs": []
    },
    {
      "cell_type": "code",
      "source": [
        "from sklearn import metrics\n",
        "metrics.mean_absolute_error(y_ts,predict)"
      ],
      "metadata": {
        "colab": {
          "base_uri": "https://localhost:8080/",
          "height": 0
        },
        "id": "GtnKnT3_FgHg",
        "outputId": "fc5bfe63-5cbb-4309-e32e-359b2fe5f141"
      },
      "execution_count": 23,
      "outputs": [
        {
          "output_type": "execute_result",
          "data": {
            "text/plain": [
              "0.2"
            ]
          },
          "metadata": {},
          "execution_count": 23
        }
      ]
    },
    {
      "cell_type": "code",
      "source": [
        "metrics.mean_squared_error(y_ts,predict)"
      ],
      "metadata": {
        "colab": {
          "base_uri": "https://localhost:8080/",
          "height": 0
        },
        "id": "Wmqk78UHFkF9",
        "outputId": "6629170b-cdae-4310-da30-e1d0f0d047af"
      },
      "execution_count": 24,
      "outputs": [
        {
          "output_type": "execute_result",
          "data": {
            "text/plain": [
              "0.2"
            ]
          },
          "metadata": {},
          "execution_count": 24
        }
      ]
    },
    {
      "cell_type": "code",
      "source": [
        "import numpy as np\n",
        "rmse=np.sqrt(metrics.mean_squared_error(y_ts,predict))\n",
        "print(rmse)"
      ],
      "metadata": {
        "colab": {
          "base_uri": "https://localhost:8080/",
          "height": 0
        },
        "id": "XZlGoMSRFphw",
        "outputId": "30fab313-cfdf-463c-f626-a0d50b2b08b4"
      },
      "execution_count": 25,
      "outputs": [
        {
          "output_type": "stream",
          "name": "stdout",
          "text": [
            "0.4472135954999579\n"
          ]
        }
      ]
    },
    {
      "cell_type": "code",
      "source": [
        "from sklearn.metrics import classification_report , confusion_matrix\n",
        "print(classification_report(y_ts,predict))\n",
        "print(confusion_matrix(y_ts,predict))"
      ],
      "metadata": {
        "colab": {
          "base_uri": "https://localhost:8080/",
          "height": 0
        },
        "id": "4t_Ue3qrFt9p",
        "outputId": "36374528-0753-4870-bf00-03681ae29fd1"
      },
      "execution_count": 26,
      "outputs": [
        {
          "output_type": "stream",
          "name": "stdout",
          "text": [
            "              precision    recall  f1-score   support\n",
            "\n",
            "           0       1.00      1.00      1.00         1\n",
            "           1       1.00      0.50      0.67         2\n",
            "           2       0.67      1.00      0.80         2\n",
            "\n",
            "    accuracy                           0.80         5\n",
            "   macro avg       0.89      0.83      0.82         5\n",
            "weighted avg       0.87      0.80      0.79         5\n",
            "\n",
            "[[1 0 0]\n",
            " [0 1 1]\n",
            " [0 0 2]]\n"
          ]
        }
      ]
    },
    {
      "cell_type": "code",
      "source": [],
      "metadata": {
        "id": "cHGkBUoJFzfi"
      },
      "execution_count": null,
      "outputs": []
    }
  ]
}